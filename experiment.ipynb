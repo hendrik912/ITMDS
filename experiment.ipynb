{
 "cells": [
  {
   "cell_type": "code",
   "execution_count": 5,
   "metadata": {
    "collapsed": true,
    "ExecuteTime": {
     "end_time": "2023-12-06T16:40:09.109181400Z",
     "start_time": "2023-12-06T16:40:08.940328Z"
    }
   },
   "outputs": [
    {
     "name": "stdout",
     "output_type": "stream",
     "text": [
      "The autoreload extension is already loaded. To reload it, use:\n",
      "  %reload_ext autoreload\n"
     ]
    }
   ],
   "source": [
    "%load_ext autoreload\n",
    "%autoreload 2\n",
    "\n",
    "import os\n",
    "import joblib\n",
    "import youtube_crawler.utils as yc_utils\n",
    "import keyword_generation.utils as kg_utils\n",
    "\n",
    "from transformers import pipeline\n",
    "from transformers import AutoTokenizer, AutoModelForCausalLM\n",
    "\n",
    "# -----------------------------------\n",
    "# Paths\n",
    "\n",
    "query_path = os.path.join(\"data\", \"queries\")\n",
    "\n",
    "# -----------------------------------\n",
    "# Flags & global settings\n",
    "\n",
    "compute_new_keywords = True\n",
    "NUMBER_OF_QUERIES_TO_GENERATE = 2\n",
    "\n",
    "\n",
    "crawl_youtube = True\n",
    "\n",
    "NUMBER_OF_PATHS_TO_COLLECT_PER_KEYWORD = 20\n",
    "NUMBER_OF_SEARCH_RESULTS_TO_CONSIDER = 10\n",
    "NUMBER_OF_RELATED_VIDEOS_TO_CONSIDER = 10\n",
    "NUMBER_OF_RELATED_VIDEOS_TO_VISIT_DEPTH = 4  # number of recommendations that are collected\n"
   ]
  },
  {
   "cell_type": "markdown",
   "source": [
    "### Create or load personas"
   ],
   "metadata": {
    "collapsed": false
   }
  },
  {
   "cell_type": "code",
   "execution_count": null,
   "outputs": [],
   "source": [
    "\n",
    "\"\"\"\n",
    "for creating a persona we can use Attitude Based Audience Targeting (Kefford et al. 2023; Blasi Casagran, Vermeulen 2021) which is used in PMT (Political Microtargeting) and includes:\n",
    "\n",
    "demographic factors (Group identifiers like Age, Location, Income etc.)\n",
    "interests (f.e. party membership, opinions on issues)\n",
    "behavior (feelings, values)\n",
    "connection (networks)\n",
    "\"\"\"\n",
    "\n",
    "# A persona is a list of attributes formulated in natural language\n",
    "personas = {\n",
    "    \"example\" : \"(Attributes: likes to cook, is male, is a middle aged US citizen)\"\n",
    "}"
   ],
   "metadata": {
    "collapsed": false
   }
  },
  {
   "cell_type": "markdown",
   "source": [
    "### Generate keywords based on personas"
   ],
   "metadata": {
    "collapsed": false
   }
  },
  {
   "cell_type": "code",
   "execution_count": 9,
   "outputs": [
    {
     "name": "stderr",
     "output_type": "stream",
     "text": [
      "Setting `pad_token_id` to `eos_token_id`:50256 for open-end generation.\n"
     ]
    }
   ],
   "source": [
    "\n",
    "model_name = \"distilgpt2\"\n",
    "\n",
    "query_store_path = os.path.join(os.path.join(query_path, model_name))\n",
    "\n",
    "if not os.path.exists(query_store_path):\n",
    "    os.makedirs(query_store_path)\n",
    "\n",
    "query_store_path = os.path.join(query_store_path, \"persona_query_dict\")\n",
    "\n",
    "if compute_new_keywords:\n",
    "\n",
    "    tokenizer = AutoTokenizer.from_pretrained(model_name)\n",
    "    model = AutoModelForCausalLM.from_pretrained(model_name)\n",
    "\n",
    "    persona_query_dict = kg_utils.generate_keywords(model, tokenizer, personas, NUMBER_OF_QUERIES_TO_GENERATE)\n",
    "\n",
    "    joblib.dump(persona_query_dict, query_store_path)\n",
    "\n",
    "    for persona in persona_query_dict:\n",
    "        print(f\"-- persona: {persona} --\")\n",
    "\n",
    "        for idx, query in enumerate(persona_query_dict[persona]):\n",
    "            print(f\"\\nId {idx}\")\n",
    "            text = query.replace(\"\\n\", \" \")\n",
    "            print(text)\n"
   ],
   "metadata": {
    "collapsed": false,
    "ExecuteTime": {
     "end_time": "2023-12-06T16:43:34.201140900Z",
     "start_time": "2023-12-06T16:43:30.970349900Z"
    }
   }
  },
  {
   "cell_type": "markdown",
   "source": [
    "### Crawl Youtube"
   ],
   "metadata": {
    "collapsed": false
   }
  },
  {
   "cell_type": "code",
   "execution_count": 11,
   "outputs": [
    {
     "name": "stdout",
     "output_type": "stream",
     "text": [
      "b'Impersonate a person that has the following attributes: (Attributes: likes to cook, is male, is a middle aged US citizen) and now create a queries you would search in youtube aligning with your personality. This is an important feature in' --- 0 --- b'https://youtube.de/results?search_query=Impersonate%20a%20person%20that%20has%20the%20following%20attributes:%20(Attributes:%20likes%20to%20cook,%20is%20male,%20is%20a%20middle%20aged%20US%20citizen)%20and%20now%20create%20a%20queries%20you%20would%20search%20in%20youtube%20aligning%20with%20your%20personality.%20This%20is%20an%20important%20feature%20in'\n"
     ]
    },
    {
     "ename": "OSError",
     "evalue": "[Errno 22] Invalid argument: 'data\\\\crawled_pages\\\\example\\\\0attributes_%20(Attributes_%20likes%20to%20cook,%20is%20male,%20is%20a%20middle%20aged%20US%20citizen)%20and%20now%20create%20a%20queries%20you%20would%20search%20in%20youtube%20aligning%20with%20your%20personality_%20This%20is%20an%20important%20feature%20in.html'",
     "output_type": "error",
     "traceback": [
      "\u001B[1;31m---------------------------------------------------------------------------\u001B[0m",
      "\u001B[1;31mOSError\u001B[0m                                   Traceback (most recent call last)",
      "Cell \u001B[1;32mIn[11], line 7\u001B[0m\n\u001B[0;32m      3\u001B[0m \u001B[38;5;28;01mfor\u001B[39;00m persona \u001B[38;5;129;01min\u001B[39;00m persona_query_dict:\n\u001B[0;32m      5\u001B[0m     keywords \u001B[38;5;241m=\u001B[39m persona_query_dict[persona]\n\u001B[1;32m----> 7\u001B[0m     yc_utils\u001B[38;5;241m.\u001B[39mcrawl_youtube(keywords,\n\u001B[0;32m      8\u001B[0m                            NUMBER_OF_PATHS_TO_COLLECT_PER_KEYWORD, NUMBER_OF_SEARCH_RESULTS_TO_CONSIDER,\n\u001B[0;32m      9\u001B[0m                            NUMBER_OF_RELATED_VIDEOS_TO_CONSIDER, NUMBER_OF_RELATED_VIDEOS_TO_VISIT_DEPTH,\n\u001B[0;32m     10\u001B[0m                            \u001B[38;5;124m\"\u001B[39m\u001B[38;5;124mdata\u001B[39m\u001B[38;5;124m\"\u001B[39m, persona)\n",
      "File \u001B[1;32m~\\Documents\\GitProjects\\ITMDS\\youtube_crawler\\utils.py:145\u001B[0m, in \u001B[0;36mcrawl_youtube\u001B[1;34m(keywords, number_of_paths_to_collect_per_keyword, number_of_search_results_to_consider, number_of_related_videos_to_consider, number_of_related_videos_to_visit_depth, base_path, folder_prefix)\u001B[0m\n\u001B[0;32m    143\u001B[0m         f\u001B[38;5;241m.\u001B[39mwrite( \u001B[38;5;124m\"\u001B[39m\u001B[38;5;130;01m\\t\u001B[39;00m\u001B[38;5;124m\"\u001B[39m\u001B[38;5;241m.\u001B[39mjoin( visited_pages_and_filenames )\u001B[38;5;241m.\u001B[39mreplace(\u001B[38;5;124m\"\u001B[39m\u001B[38;5;130;01m\\n\u001B[39;00m\u001B[38;5;124m\"\u001B[39m,\u001B[38;5;124m\"\u001B[39m\u001B[38;5;124m\"\u001B[39m) \u001B[38;5;241m+\u001B[39m \u001B[38;5;124m\"\u001B[39m\u001B[38;5;130;01m\\n\u001B[39;00m\u001B[38;5;124m\"\u001B[39m )\n\u001B[0;32m    144\u001B[0m \u001B[38;5;28;01mexcept\u001B[39;00m \u001B[38;5;167;01mException\u001B[39;00m \u001B[38;5;28;01mas\u001B[39;00m e:\n\u001B[1;32m--> 145\u001B[0m     \u001B[38;5;28;01mraise\u001B[39;00m( e )\n\u001B[0;32m    146\u001B[0m     \u001B[38;5;28;01mpass\u001B[39;00m\n\u001B[0;32m    148\u001B[0m driver\u001B[38;5;241m.\u001B[39mclose()\n",
      "File \u001B[1;32m~\\Documents\\GitProjects\\ITMDS\\youtube_crawler\\utils.py:82\u001B[0m, in \u001B[0;36mcrawl_youtube\u001B[1;34m(keywords, number_of_paths_to_collect_per_keyword, number_of_search_results_to_consider, number_of_related_videos_to_consider, number_of_related_videos_to_visit_depth, base_path, folder_prefix)\u001B[0m\n\u001B[0;32m     79\u001B[0m filepath \u001B[38;5;241m=\u001B[39m os\u001B[38;5;241m.\u001B[39mpath\u001B[38;5;241m.\u001B[39mjoin(filepath_base, filename \u001B[38;5;241m+\u001B[39m \u001B[38;5;124m\"\u001B[39m\u001B[38;5;124m.html\u001B[39m\u001B[38;5;124m\"\u001B[39m)\n\u001B[0;32m     81\u001B[0m \u001B[38;5;28;01mif\u001B[39;00m \u001B[38;5;129;01mnot\u001B[39;00m os\u001B[38;5;241m.\u001B[39mpath\u001B[38;5;241m.\u001B[39misfile( filepath ):\n\u001B[1;32m---> 82\u001B[0m     \u001B[38;5;28;01mwith\u001B[39;00m \u001B[38;5;28mopen\u001B[39m( filepath, \u001B[38;5;124m'\u001B[39m\u001B[38;5;124mw\u001B[39m\u001B[38;5;124m'\u001B[39m, encoding\u001B[38;5;241m=\u001B[39m\u001B[38;5;124m'\u001B[39m\u001B[38;5;124mutf8\u001B[39m\u001B[38;5;124m'\u001B[39m ) \u001B[38;5;28;01mas\u001B[39;00m f:\n\u001B[0;32m     83\u001B[0m         f\u001B[38;5;241m.\u001B[39mwrite( driver\u001B[38;5;241m.\u001B[39mpage_source )\n\u001B[0;32m     85\u001B[0m \u001B[38;5;66;03m# collect top recommendations\u001B[39;00m\n",
      "\u001B[1;31mOSError\u001B[0m: [Errno 22] Invalid argument: 'data\\\\crawled_pages\\\\example\\\\0attributes_%20(Attributes_%20likes%20to%20cook,%20is%20male,%20is%20a%20middle%20aged%20US%20citizen)%20and%20now%20create%20a%20queries%20you%20would%20search%20in%20youtube%20aligning%20with%20your%20personality_%20This%20is%20an%20important%20feature%20in.html'"
     ]
    }
   ],
   "source": [
    "if crawl_youtube:\n",
    "    persona_query_dict = joblib.load(query_store_path)\n",
    "\n",
    "    for persona in persona_query_dict:\n",
    "\n",
    "        keywords = persona_query_dict[persona]\n",
    "\n",
    "        yc_utils.crawl_youtube(keywords,\n",
    "                               NUMBER_OF_PATHS_TO_COLLECT_PER_KEYWORD, NUMBER_OF_SEARCH_RESULTS_TO_CONSIDER,\n",
    "                               NUMBER_OF_RELATED_VIDEOS_TO_CONSIDER, NUMBER_OF_RELATED_VIDEOS_TO_VISIT_DEPTH,\n",
    "                               \"data\", persona)\n"
   ],
   "metadata": {
    "collapsed": false,
    "ExecuteTime": {
     "end_time": "2023-12-06T16:44:27.270283300Z",
     "start_time": "2023-12-06T16:44:08.951359600Z"
    }
   }
  }
 ],
 "metadata": {
  "kernelspec": {
   "display_name": "Python 3",
   "language": "python",
   "name": "python3"
  },
  "language_info": {
   "codemirror_mode": {
    "name": "ipython",
    "version": 2
   },
   "file_extension": ".py",
   "mimetype": "text/x-python",
   "name": "python",
   "nbconvert_exporter": "python",
   "pygments_lexer": "ipython2",
   "version": "2.7.6"
  }
 },
 "nbformat": 4,
 "nbformat_minor": 0
}
